{
 "cells": [
  {
   "cell_type": "markdown",
   "id": "141ed9d9-d73e-4bd6-8408-69fea15fc9d8",
   "metadata": {},
   "source": [
    "## Data Science Tools and Ecosystem"
   ]
  },
  {
   "cell_type": "markdown",
   "id": "f0e7e847-dc51-4094-932c-e2f50c6eef37",
   "metadata": {},
   "source": [
    "In this tool, Data Science Tools and Ecosystem are summarized."
   ]
  },
  {
   "cell_type": "markdown",
   "id": "82b28a66-ce53-49a9-9fab-10d4453146e1",
   "metadata": {},
   "source": [
    "Some of the popular languages data scientists use are:"
   ]
  },
  {
   "cell_type": "code",
   "execution_count": 7,
   "id": "d45302c4-bd03-445e-a829-efcdccd6d4ae",
   "metadata": {},
   "outputs": [],
   "source": [
    "my_list = [\"Java\",\"Python\",\"R\",\"SQL\"]"
   ]
  },
  {
   "cell_type": "code",
   "execution_count": 11,
   "id": "7cbedf6f-dcb6-4d42-b0d1-7dcc814f3c31",
   "metadata": {},
   "outputs": [
    {
     "name": "stdout",
     "output_type": "stream",
     "text": [
      "1)Java\n",
      "2)Python\n",
      "3)R\n",
      "4)SQL\n"
     ]
    }
   ],
   "source": [
    "for i, itm in enumerate(my_list, start=1):print(f\"{i}){itm}\")"
   ]
  },
  {
   "cell_type": "markdown",
   "id": "608add75-8920-45fe-b528-1b60f3a327b9",
   "metadata": {},
   "source": [
    "Some of the commonly used libraries by Data Scientists include:"
   ]
  },
  {
   "cell_type": "code",
   "execution_count": 14,
   "id": "d2ae9f7a-7d0b-4d75-b444-b569a1cec36e",
   "metadata": {},
   "outputs": [],
   "source": [
    "my_list = [\"Pandas\",\"NumPy\",\"Keras\",\"TensorFlow\"]"
   ]
  },
  {
   "cell_type": "code",
   "execution_count": 16,
   "id": "2f348c5a-bff3-4b0d-ab92-ab53ac223949",
   "metadata": {},
   "outputs": [
    {
     "name": "stdout",
     "output_type": "stream",
     "text": [
      "1)Pandas\n",
      "2)NumPy\n",
      "3)Keras\n",
      "4)TensorFlow\n"
     ]
    }
   ],
   "source": [
    "for i, itm in enumerate(my_list,start=1):print(f\"{i}){itm}\")"
   ]
  },
  {
   "cell_type": "code",
   "execution_count": 18,
   "id": "a06e17e6-a9fe-4146-a06f-02a489559abf",
   "metadata": {},
   "outputs": [
    {
     "name": "stdout",
     "output_type": "stream",
     "text": [
      "Defaulting to user installation because normal site-packages is not writeable\n",
      "Looking in links: /usr/share/pip-wheels\n",
      "Requirement already satisfied: tabulate in /opt/conda/envs/anaconda-panel-2023.05-py310/lib/python3.11/site-packages (0.8.10)\n",
      "Note: you may need to restart the kernel to use updated packages.\n"
     ]
    }
   ],
   "source": [
    "pip install tabulate"
   ]
  },
  {
   "cell_type": "code",
   "execution_count": 20,
   "id": "028e6d19-6310-4576-9682-1702c300cd77",
   "metadata": {},
   "outputs": [],
   "source": [
    "from tabulate import tabulate"
   ]
  },
  {
   "cell_type": "code",
   "execution_count": 28,
   "id": "1b0b5132-ebc3-49e7-a14e-48d8a849786f",
   "metadata": {},
   "outputs": [],
   "source": [
    "table = [['Data Science Tools'],['JupyterLab'],['RStudio'],['Apache Zeppelin']]"
   ]
  },
  {
   "cell_type": "code",
   "execution_count": 30,
   "id": "cc885eb9-96be-4e08-923a-622a45c9f8a4",
   "metadata": {},
   "outputs": [
    {
     "name": "stdout",
     "output_type": "stream",
     "text": [
      "------------------\n",
      "Data Science Tools\n",
      "JupyterLab\n",
      "RStudio\n",
      "Apache Zeppelin\n",
      "------------------\n"
     ]
    }
   ],
   "source": [
    "print(tabulate(table))"
   ]
  },
  {
   "cell_type": "markdown",
   "id": "54f4286a-49c3-43bc-a409-8c16f8063848",
   "metadata": {},
   "source": [
    "### Below are a few examples of evaluating arithmetic expressions"
   ]
  },
  {
   "cell_type": "code",
   "execution_count": 34,
   "id": "2df734a9-80ea-44c6-8f45-da492ffed830",
   "metadata": {},
   "outputs": [],
   "source": [
    "x = 3"
   ]
  },
  {
   "cell_type": "code",
   "execution_count": 36,
   "id": "d9febfce-b1af-4b78-aecb-df7a6a690e02",
   "metadata": {},
   "outputs": [],
   "source": [
    "y = 4"
   ]
  },
  {
   "cell_type": "code",
   "execution_count": 38,
   "id": "af75ad98-7859-43bd-8fea-069d75421ef4",
   "metadata": {},
   "outputs": [],
   "source": [
    "z = 5"
   ]
  },
  {
   "cell_type": "code",
   "execution_count": 40,
   "id": "c19e1612-a803-4fa6-a407-6fe4983175fe",
   "metadata": {},
   "outputs": [],
   "source": [
    "result = (x*y)+z"
   ]
  },
  {
   "cell_type": "code",
   "execution_count": 42,
   "id": "7c656c48-5fa4-4f58-9622-818675cce670",
   "metadata": {},
   "outputs": [
    {
     "name": "stdout",
     "output_type": "stream",
     "text": [
      "17\n"
     ]
    }
   ],
   "source": [
    "print(result)"
   ]
  },
  {
   "cell_type": "code",
   "execution_count": 44,
   "id": "e12b0224-4b65-4819-85b7-eae65db5ed20",
   "metadata": {},
   "outputs": [],
   "source": [
    "x = 200"
   ]
  },
  {
   "cell_type": "code",
   "execution_count": 46,
   "id": "ae3ca92d-8310-4bf6-a3a5-ae62c564e006",
   "metadata": {},
   "outputs": [],
   "source": [
    "y = 60"
   ]
  },
  {
   "cell_type": "code",
   "execution_count": 48,
   "id": "c0bd6438-fbc8-45fe-b6d4-cbc50735a67e",
   "metadata": {},
   "outputs": [],
   "source": [
    "result = 200/60"
   ]
  },
  {
   "cell_type": "code",
   "execution_count": 50,
   "id": "37b5fc69-fe43-4d56-a781-84b13696e9ab",
   "metadata": {},
   "outputs": [
    {
     "name": "stdout",
     "output_type": "stream",
     "text": [
      "3.3333333333333335\n"
     ]
    }
   ],
   "source": [
    "print(result)"
   ]
  },
  {
   "cell_type": "markdown",
   "id": "f6648410-75c7-4402-89df-11807aac298b",
   "metadata": {},
   "source": [
    "### Objectives"
   ]
  },
  {
   "cell_type": "markdown",
   "id": "d74f6697-649c-4c39-88aa-6ffd94397781",
   "metadata": {},
   "source": [
    "kk"
   ]
  },
  {
   "cell_type": "code",
   "execution_count": null,
   "id": "314d504e-9b23-4ded-9923-470be7f61a4e",
   "metadata": {},
   "outputs": [],
   "source": []
  },
  {
   "cell_type": "code",
   "execution_count": 71,
   "id": "7d92cbd4-4117-43e3-909c-bf5f0819f68a",
   "metadata": {},
   "outputs": [],
   "source": [
    "objectives = {'Languages used by Data Scientists','Libraries used by Data Scientists','Arithmetic Expression'}"
   ]
  },
  {
   "cell_type": "code",
   "execution_count": 77,
   "id": "62ac1392-9280-44fb-bd20-27d2ba4a6020",
   "metadata": {},
   "outputs": [
    {
     "name": "stdout",
     "output_type": "stream",
     "text": [
      "Languages used by Data Scientists\n",
      "Libraries used Data Scientists\n",
      "Arithmetic Expression\n"
     ]
    }
   ],
   "source": [
    "for objectives in my_list:print(objectives)"
   ]
  },
  {
   "cell_type": "markdown",
   "id": "cea97c6f-2c16-47de-beab-746e4c7c96e7",
   "metadata": {},
   "source": [
    "## Author"
   ]
  },
  {
   "cell_type": "markdown",
   "id": "3dbbe20b-5c3b-4aea-a064-71067345ff8c",
   "metadata": {},
   "source": [
    "Sera Ria Gomes"
   ]
  },
  {
   "cell_type": "code",
   "execution_count": null,
   "id": "05d07932-c8e0-4691-ba46-26cd4ce95bbd",
   "metadata": {},
   "outputs": [],
   "source": []
  }
 ],
 "metadata": {
  "kernelspec": {
   "display_name": "anaconda-panel-2023.05-py310",
   "language": "python",
   "name": "conda-env-anaconda-panel-2023.05-py310-py"
  },
  "language_info": {
   "codemirror_mode": {
    "name": "ipython",
    "version": 3
   },
   "file_extension": ".py",
   "mimetype": "text/x-python",
   "name": "python",
   "nbconvert_exporter": "python",
   "pygments_lexer": "ipython3",
   "version": "3.11.4"
  }
 },
 "nbformat": 4,
 "nbformat_minor": 5
}
